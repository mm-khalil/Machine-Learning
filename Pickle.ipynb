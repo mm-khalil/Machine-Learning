{
 "cells": [
  {
   "cell_type": "code",
   "execution_count": 4,
   "id": "fundamental-mayor",
   "metadata": {},
   "outputs": [],
   "source": [
    "# You will need these imports\n",
    "import pandas as pd\n",
    "import matplotlib \n",
    "import matplotlib.pyplot as plt\n",
    "%matplotlib inline\n",
    "import numpy as np"
   ]
  },
  {
   "cell_type": "markdown",
   "id": "grave-shanghai",
   "metadata": {},
   "source": [
    "### Download Chicago Divvy Bike Data from Kaggle\n",
    "https://www.kaggle.com/michaelshoemaker/divvy-bike-chicago-2018"
   ]
  },
  {
   "cell_type": "markdown",
   "id": "pediatric-biology",
   "metadata": {},
   "source": [
    "### 1. Create four DataFrames from the four .csv files"
   ]
  },
  {
   "cell_type": "code",
   "execution_count": 6,
   "id": "blind-visitor",
   "metadata": {},
   "outputs": [],
   "source": [
    "\n",
    "data1 = pd.read_csv(r'C:\\Users\\khalil\\ML Lab 2\\Divvy_Trips_2018_Q1.csv')\n",
    "data2 = pd.read_csv(r'C:\\Users\\khalil\\ML Lab 2\\Divvy_Trips_2018_Q2.csv')\n",
    "data3 = pd.read_csv(r'C:\\Users\\khalil\\ML Lab 2\\Divvy_Trips_2018_Q3.csv')\n",
    "data4 = pd.read_csv(r'C:\\Users\\khalil\\ML Lab 2\\Divvy_Trips_2018_Q4.csv')\n",
    "\n",
    "df1 = pd.DataFrame(data1)  \n",
    "df2 = pd.DataFrame(data2)  \n",
    "df3 = pd.DataFrame(data3)  \n",
    "df4 = pd.DataFrame(data4)  \n",
    "\n"
   ]
  },
  {
   "cell_type": "markdown",
   "id": "laughing-license",
   "metadata": {},
   "source": [
    "### 2. Create a single dataframe by combining the four previously created\n",
    "\n",
    "hint: https://pandas.pydata.org/pandas-docs/stable/reference/api/pandas.concat.html"
   ]
  },
  {
   "cell_type": "code",
   "execution_count": 7,
   "id": "ongoing-rhythm",
   "metadata": {},
   "outputs": [],
   "source": [
    "#combined_df = df1, df2, df3, df4\n",
    "\n",
    "combined_df =pd.concat([df1, df2, df3, df4])"
   ]
  },
  {
   "cell_type": "markdown",
   "id": "marine-northern",
   "metadata": {},
   "source": [
    "### 3. What is the length of the resulting DataFrame ?"
   ]
  },
  {
   "cell_type": "code",
   "execution_count": 8,
   "id": "popular-schema",
   "metadata": {},
   "outputs": [
    {
     "data": {
      "text/plain": [
       "3603082"
      ]
     },
     "execution_count": 8,
     "metadata": {},
     "output_type": "execute_result"
    }
   ],
   "source": [
    "len(combined_df)"
   ]
  },
  {
   "cell_type": "markdown",
   "id": "bearing-armstrong",
   "metadata": {},
   "source": [
    "### 4. List the datetype of each column\n",
    "Hint: https://pandas.pydata.org/pandas-docs/stable/reference/api/pandas.DataFrame.dtypes.html\n"
   ]
  },
  {
   "cell_type": "code",
   "execution_count": 9,
   "id": "provincial-armenia",
   "metadata": {},
   "outputs": [
    {
     "data": {
      "text/plain": [
       "trip_id                int64\n",
       "start_time            object\n",
       "end_time              object\n",
       "bikeid                 int64\n",
       "tripduration          object\n",
       "from_station_id        int64\n",
       "from_station_name     object\n",
       "to_station_id          int64\n",
       "to_station_name       object\n",
       "usertype              object\n",
       "gender                object\n",
       "birthyear            float64\n",
       "dtype: object"
      ]
     },
     "execution_count": 9,
     "metadata": {},
     "output_type": "execute_result"
    }
   ],
   "source": [
    "combined_df.dtypes"
   ]
  },
  {
   "cell_type": "markdown",
   "id": "discrete-chance",
   "metadata": {},
   "source": [
    "### 5. Turn the two date columns into type pandas.datetime "
   ]
  },
  {
   "cell_type": "code",
   "execution_count": 10,
   "id": "91a9899c",
   "metadata": {},
   "outputs": [
    {
     "name": "stdout",
     "output_type": "stream",
     "text": [
      "         trip_id          start_time            end_time  bikeid tripduration  \\\n",
      "0       17536702 2018-01-01 00:12:00 2018-01-01 00:17:23    3304        323.0   \n",
      "1       17536703 2018-01-01 00:41:35 2018-01-01 00:47:52    5367        377.0   \n",
      "2       17536704 2018-01-01 00:44:46 2018-01-01 01:33:10    4599      2,904.0   \n",
      "3       17536705 2018-01-01 00:53:10 2018-01-01 01:05:37    2302        747.0   \n",
      "4       17536706 2018-01-01 00:53:37 2018-01-01 00:56:40    3696        183.0   \n",
      "...          ...                 ...                 ...     ...          ...   \n",
      "642681  21742438 2018-12-31 23:45:17 2018-12-31 23:50:05    2931        288.0   \n",
      "642682  21742439 2018-12-31 23:48:48 2018-12-31 23:57:22    4386        514.0   \n",
      "642683  21742440 2018-12-31 23:50:09 2018-12-31 23:57:16    4927        427.0   \n",
      "642684  21742441 2018-12-31 23:55:04 2018-12-31 23:58:24    1350        200.0   \n",
      "642685  21742442 2018-12-31 23:59:18 2019-01-01 00:20:43    2006      1,285.0   \n",
      "\n",
      "        from_station_id               from_station_name  to_station_id  \\\n",
      "0                    69          Damen Ave & Pierce Ave            159   \n",
      "1                   253     Winthrop Ave & Lawrence Ave            325   \n",
      "2                    98      LaSalle St & Washington St            509   \n",
      "3                   125            Rush St & Hubbard St            364   \n",
      "4                   129       Blue Island Ave & 18th St            205   \n",
      "...                 ...                             ...            ...   \n",
      "642681               49         Dearborn St & Monroe St            164   \n",
      "642682              624  Dearborn St & Van Buren St (*)             44   \n",
      "642683               41            Federal St & Polk St             52   \n",
      "642684              141          Clark St & Lincoln Ave            118   \n",
      "642685              260      Kedzie Ave & Milwaukee Ave            166   \n",
      "\n",
      "                       to_station_name    usertype  gender  birthyear  \n",
      "0            Claremont Ave & Hirsch St  Subscriber    Male     1988.0  \n",
      "1       Clark St & Winnemac Ave (Temp)  Subscriber    Male     1984.0  \n",
      "2                  Troy St & North Ave  Subscriber    Male     1989.0  \n",
      "3                 Larrabee St & Oak St  Subscriber    Male     1983.0  \n",
      "4                 Paulina St & 18th St  Subscriber    Male     1989.0  \n",
      "...                                ...         ...     ...        ...  \n",
      "642681           Franklin St & Lake St  Subscriber  Female     1983.0  \n",
      "642682          State St & Randolph St  Subscriber  Female     1990.0  \n",
      "642683          Michigan Ave & Lake St  Subscriber  Female     1995.0  \n",
      "642684         Sedgwick St & North Ave  Subscriber    Male     1999.0  \n",
      "642685    Ashland Ave & Wrightwood Ave  Subscriber    Male     1990.0  \n",
      "\n",
      "[3603082 rows x 12 columns]\n"
     ]
    }
   ],
   "source": [
    "combined_df[['start_time','end_time']] = combined_df[['start_time','end_time']].apply(pd.to_datetime)\n",
    "print(combined_df)"
   ]
  },
  {
   "cell_type": "markdown",
   "id": "electronic-plaza",
   "metadata": {},
   "source": [
    "### 6. Now list the dataframe types"
   ]
  },
  {
   "cell_type": "code",
   "execution_count": 11,
   "id": "approximate-jimmy",
   "metadata": {},
   "outputs": [
    {
     "data": {
      "text/plain": [
       "trip_id                       int64\n",
       "start_time           datetime64[ns]\n",
       "end_time             datetime64[ns]\n",
       "bikeid                        int64\n",
       "tripduration                 object\n",
       "from_station_id               int64\n",
       "from_station_name            object\n",
       "to_station_id                 int64\n",
       "to_station_name              object\n",
       "usertype                     object\n",
       "gender                       object\n",
       "birthyear                   float64\n",
       "dtype: object"
      ]
     },
     "execution_count": 11,
     "metadata": {},
     "output_type": "execute_result"
    }
   ],
   "source": [
    "combined_df.dtypes"
   ]
  },
  {
   "cell_type": "markdown",
   "id": "prime-weekly",
   "metadata": {},
   "source": [
    "### 7. Create a new column with the month of start_time"
   ]
  },
  {
   "cell_type": "code",
   "execution_count": 12,
   "id": "polished-eugene",
   "metadata": {},
   "outputs": [
    {
     "name": "stdout",
     "output_type": "stream",
     "text": [
      "         trip_id          start_time            end_time  bikeid tripduration  \\\n",
      "0       17536702 2018-01-01 00:12:00 2018-01-01 00:17:23    3304        323.0   \n",
      "1       17536703 2018-01-01 00:41:35 2018-01-01 00:47:52    5367        377.0   \n",
      "2       17536704 2018-01-01 00:44:46 2018-01-01 01:33:10    4599      2,904.0   \n",
      "3       17536705 2018-01-01 00:53:10 2018-01-01 01:05:37    2302        747.0   \n",
      "4       17536706 2018-01-01 00:53:37 2018-01-01 00:56:40    3696        183.0   \n",
      "...          ...                 ...                 ...     ...          ...   \n",
      "642681  21742438 2018-12-31 23:45:17 2018-12-31 23:50:05    2931        288.0   \n",
      "642682  21742439 2018-12-31 23:48:48 2018-12-31 23:57:22    4386        514.0   \n",
      "642683  21742440 2018-12-31 23:50:09 2018-12-31 23:57:16    4927        427.0   \n",
      "642684  21742441 2018-12-31 23:55:04 2018-12-31 23:58:24    1350        200.0   \n",
      "642685  21742442 2018-12-31 23:59:18 2019-01-01 00:20:43    2006      1,285.0   \n",
      "\n",
      "        from_station_id               from_station_name  to_station_id  \\\n",
      "0                    69          Damen Ave & Pierce Ave            159   \n",
      "1                   253     Winthrop Ave & Lawrence Ave            325   \n",
      "2                    98      LaSalle St & Washington St            509   \n",
      "3                   125            Rush St & Hubbard St            364   \n",
      "4                   129       Blue Island Ave & 18th St            205   \n",
      "...                 ...                             ...            ...   \n",
      "642681               49         Dearborn St & Monroe St            164   \n",
      "642682              624  Dearborn St & Van Buren St (*)             44   \n",
      "642683               41            Federal St & Polk St             52   \n",
      "642684              141          Clark St & Lincoln Ave            118   \n",
      "642685              260      Kedzie Ave & Milwaukee Ave            166   \n",
      "\n",
      "                       to_station_name    usertype  gender  birthyear  Month  \n",
      "0            Claremont Ave & Hirsch St  Subscriber    Male     1988.0      1  \n",
      "1       Clark St & Winnemac Ave (Temp)  Subscriber    Male     1984.0      1  \n",
      "2                  Troy St & North Ave  Subscriber    Male     1989.0      1  \n",
      "3                 Larrabee St & Oak St  Subscriber    Male     1983.0      1  \n",
      "4                 Paulina St & 18th St  Subscriber    Male     1989.0      1  \n",
      "...                                ...         ...     ...        ...    ...  \n",
      "642681           Franklin St & Lake St  Subscriber  Female     1983.0     12  \n",
      "642682          State St & Randolph St  Subscriber  Female     1990.0     12  \n",
      "642683          Michigan Ave & Lake St  Subscriber  Female     1995.0     12  \n",
      "642684         Sedgwick St & North Ave  Subscriber    Male     1999.0     12  \n",
      "642685    Ashland Ave & Wrightwood Ave  Subscriber    Male     1990.0     12  \n",
      "\n",
      "[3603082 rows x 13 columns]\n"
     ]
    }
   ],
   "source": [
    "combined_df['Month'] = combined_df['start_time'].dt.month \n",
    "print(combined_df)"
   ]
  },
  {
   "cell_type": "markdown",
   "id": "returning-clone",
   "metadata": {},
   "source": [
    "### 8. List the number of rides by month"
   ]
  },
  {
   "cell_type": "code",
   "execution_count": 13,
   "id": "human-jacksonville",
   "metadata": {},
   "outputs": [
    {
     "name": "stdout",
     "output_type": "stream",
     "text": [
      "7     544703\n",
      "8     530755\n",
      "6     458419\n",
      "9     438112\n",
      "5     401150\n",
      "10    344940\n",
      "4     200112\n",
      "3     174489\n",
      "11    168774\n",
      "12    128972\n",
      "1     109706\n",
      "2     102950\n",
      "Name: Month, dtype: int64\n"
     ]
    }
   ],
   "source": [
    "rides=combined_df['Month'].value_counts()\n",
    "print(rides)"
   ]
  },
  {
   "cell_type": "code",
   "execution_count": 14,
   "id": "2b20748c",
   "metadata": {},
   "outputs": [
    {
     "data": {
      "text/plain": [
       "1     109706\n",
       "2     102950\n",
       "3     174489\n",
       "4     200112\n",
       "5     401150\n",
       "6     458419\n",
       "7     544703\n",
       "8     530755\n",
       "9     438112\n",
       "10    344940\n",
       "11    168774\n",
       "12    128972\n",
       "Name: Month, dtype: int64"
      ]
     },
     "execution_count": 14,
     "metadata": {},
     "output_type": "execute_result"
    }
   ],
   "source": [
    "rides.sort_index()"
   ]
  },
  {
   "cell_type": "markdown",
   "id": "exterior-times",
   "metadata": {},
   "source": [
    "### 9. Chart the number of rides by month"
   ]
  },
  {
   "cell_type": "code",
   "execution_count": 15,
   "id": "polish-communication",
   "metadata": {},
   "outputs": [
    {
     "data": {
      "text/plain": [
       "[<matplotlib.lines.Line2D at 0x21a8d3e55b0>]"
      ]
     },
     "execution_count": 15,
     "metadata": {},
     "output_type": "execute_result"
    },
    {
     "data": {
      "image/png": "[encoded data removed]",
      "text/plain": [
       "<Figure size 432x288 with 1 Axes>"
      ]
     },
     "metadata": {
      "needs_background": "light"
     },
     "output_type": "display_data"
    }
   ],
   "source": [
    "plt.plot(rides.sort_index())"
   ]
  },
  {
   "cell_type": "markdown",
   "id": "fallen-ozone",
   "metadata": {},
   "source": [
    "### 10.  It's often useful to think about the data.  Why do you think the number of rides fluctuates by month ?"
   ]
  },
  {
   "cell_type": "code",
   "execution_count": null,
   "id": "a9b40e4f",
   "metadata": {},
   "outputs": [],
   "source": [
    "Because of WEATHER Conditions (warm, hot, Rainy, Cold, Snow, and Holidays etc)."
   ]
  },
  {
   "cell_type": "markdown",
   "id": "89cb4561",
   "metadata": {},
   "source": [
    "### 11. Create a function that calculates age.  Use the difference between the current year (can use datetime library for this) and the birthyear column.\n",
    "\n",
    "hint: https://pandas.pydata.org/docs/reference/api/pandas.DataFrame.apply.html"
   ]
  },
  {
   "cell_type": "code",
   "execution_count": 33,
   "id": "2e5619b6",
   "metadata": {},
   "outputs": [
    {
     "data": {
      "text/plain": [
       "0         1988.0\n",
       "1         1984.0\n",
       "2         1989.0\n",
       "3         1983.0\n",
       "4         1989.0\n",
       "           ...  \n",
       "642681    1983.0\n",
       "642682    1990.0\n",
       "642683    1995.0\n",
       "642684    1999.0\n",
       "642685    1990.0\n",
       "Name: birthyear, Length: 3603082, dtype: float64"
      ]
     },
     "execution_count": 33,
     "metadata": {},
     "output_type": "execute_result"
    }
   ],
   "source": [
    "birthdate=combined_df.iloc[:,11]\n",
    "birthdate"
   ]
  },
  {
   "cell_type": "code",
   "execution_count": 34,
   "id": "3644f7be",
   "metadata": {},
   "outputs": [],
   "source": [
    "from datetime import date\n",
    " \n",
    "def age(birthdate):\n",
    "    today = date.today()\n",
    "    age = today.year - birthdate.year - ((today.month, today.day) < (birthdate.month, birthdate.day))\n",
    "    return age"
   ]
  },
  {
   "cell_type": "code",
   "execution_count": 36,
   "id": "514b5c7e",
   "metadata": {},
   "outputs": [
    {
     "name": "stdout",
     "output_type": "stream",
     "text": [
      "35\n"
     ]
    }
   ],
   "source": [
    "print(age(date(1988, 1, 1)))"
   ]
  },
  {
   "cell_type": "markdown",
   "id": "0dce9ffa",
   "metadata": {},
   "source": [
    "### 12. Use the %time magic to rerun your calculation for #11.  How long it takes to run it?"
   ]
  },
  {
   "cell_type": "code",
   "execution_count": 42,
   "id": "5aec81b2",
   "metadata": {},
   "outputs": [
    {
     "name": "stdout",
     "output_type": "stream",
     "text": [
      "35\n",
      "Wall time: 999 µs\n"
     ]
    }
   ],
   "source": [
    "%%time\n",
    "\n",
    "def age(birthdate):\n",
    "    today = date.today()\n",
    "    age = today.year - birthdate.year - ((today.month, today.day) < (birthdate.month, birthdate.day))\n",
    "    return age\n",
    "\n",
    "print(age(date(1988, 1, 1)))"
   ]
  },
  {
   "cell_type": "markdown",
   "id": "6d543d55",
   "metadata": {},
   "source": [
    "### 13. What is the maximum age you found in the column you calculated in #11?"
   ]
  },
  {
   "cell_type": "code",
   "execution_count": 45,
   "id": "854b69e4",
   "metadata": {},
   "outputs": [
    {
     "data": {
      "text/plain": [
       "1895.0"
      ]
     },
     "execution_count": 45,
     "metadata": {},
     "output_type": "execute_result"
    }
   ],
   "source": [
    "birthdate.min()  #THis is the Last value"
   ]
  },
  {
   "cell_type": "code",
   "execution_count": 46,
   "id": "9b97f73e",
   "metadata": {},
   "outputs": [
    {
     "name": "stdout",
     "output_type": "stream",
     "text": [
      "128\n"
     ]
    }
   ],
   "source": [
    "#Now I check MAX AGE\n",
    "print(age(date(1895, 1, 1)))  "
   ]
  }
 ],
 "metadata": {
  "kernelspec": {
   "display_name": "Python 3 (ipykernel)",
   "language": "python",
   "name": "python3"
  },
  "language_info": {
   "codemirror_mode": {
    "name": "ipython",
    "version": 3
   },
   "file_extension": ".py",
   "mimetype": "text/x-python",
   "name": "python",
   "nbconvert_exporter": "python",
   "pygments_lexer": "ipython3",
   "version": "3.9.7"
  }
 },
 "nbformat": 4,
 "nbformat_minor": 5
}
